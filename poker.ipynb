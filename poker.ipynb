{
 "cells": [
  {
   "cell_type": "code",
   "execution_count": 1,
   "metadata": {},
   "outputs": [],
   "source": [
    "import numpy as np\n",
    "from poker_rl.game import PokerGame\n",
    "from poker_rl.agent import agent"
   ]
  },
  {
   "cell_type": "code",
   "execution_count": null,
   "metadata": {},
   "outputs": [
    {
     "name": "stdout",
     "output_type": "stream",
     "text": [
      "[3♠, 5♥, 7♣, 8♥, 9♠, 10♣, 10♥, J♥, K♥, A♥]\n",
      "Your best hand is Flush, [8♥, 10♥, J♥, K♥, A♥]\n"
     ]
    }
   ],
   "source": []
  },
  {
   "cell_type": "code",
   "execution_count": 3,
   "metadata": {},
   "outputs": [
    {
     "data": {
      "text/plain": [
       "[[9♠, 10♣], [3♠, 7♣]]"
      ]
     },
     "execution_count": 3,
     "metadata": {},
     "output_type": "execute_result"
    }
   ],
   "source": [
    "g.player_cards"
   ]
  },
  {
   "cell_type": "code",
   "execution_count": 8,
   "metadata": {},
   "outputs": [
    {
     "name": "stdout",
     "output_type": "stream",
     "text": [
      "<class 'type'>\n"
     ]
    },
    {
     "ename": "AttributeError",
     "evalue": "'OrderEnforcing' object has no attribute 'register_agents'",
     "output_type": "error",
     "traceback": [
      "\u001b[31m---------------------------------------------------------------------------\u001b[39m",
      "\u001b[31mAttributeError\u001b[39m                            Traceback (most recent call last)",
      "\u001b[36mCell\u001b[39m\u001b[36m \u001b[39m\u001b[32mIn[8]\u001b[39m\u001b[32m, line 8\u001b[39m\n\u001b[32m      5\u001b[39m env = gym.make(\u001b[33m\"\u001b[39m\u001b[33mNoLimitHoldemTwoPlayer-v0\u001b[39m\u001b[33m\"\u001b[39m)\n\u001b[32m      7\u001b[39m \u001b[38;5;28mprint\u001b[39m(\u001b[38;5;28mtype\u001b[39m)\n\u001b[32m----> \u001b[39m\u001b[32m8\u001b[39m \u001b[43menv\u001b[49m\u001b[43m.\u001b[49m\u001b[43mregister_agents\u001b[49m([clubs_gym.agent.base.BaseAgent()] * \u001b[32m2\u001b[39m)\n\u001b[32m      9\u001b[39m obs = env.reset()\n\u001b[32m     11\u001b[39m \u001b[38;5;28;01mwhile\u001b[39;00m \u001b[38;5;28;01mTrue\u001b[39;00m:\n",
      "\u001b[31mAttributeError\u001b[39m: 'OrderEnforcing' object has no attribute 'register_agents'"
     ]
    }
   ],
   "source": [
    "import gymnasium as gym\n",
    "\n",
    "import clubs_gym\n",
    "\n",
    "env = gym.make(\"NoLimitHoldemTwoPlayer-v0\")\n",
    "\n",
    "print(type)\n",
    "env.register_agents([clubs_gym.agent.base.BaseAgent()] * 2)\n",
    "obs = env.reset()\n",
    "\n",
    "while True:\n",
    "    bet = env.act(obs)\n",
    "    obs, rewards, done, info = env.step(bet)\n",
    "\n",
    "    if all(done):\n",
    "        break\n",
    "\n",
    "print(rewards)"
   ]
  },
  {
   "cell_type": "code",
   "execution_count": null,
   "metadata": {},
   "outputs": [],
   "source": []
  }
 ],
 "metadata": {
  "kernelspec": {
   "display_name": "poker-rl",
   "language": "python",
   "name": "python3"
  },
  "language_info": {
   "codemirror_mode": {
    "name": "ipython",
    "version": 3
   },
   "file_extension": ".py",
   "mimetype": "text/x-python",
   "name": "python",
   "nbconvert_exporter": "python",
   "pygments_lexer": "ipython3",
   "version": "3.11.11"
  }
 },
 "nbformat": 4,
 "nbformat_minor": 2
}
